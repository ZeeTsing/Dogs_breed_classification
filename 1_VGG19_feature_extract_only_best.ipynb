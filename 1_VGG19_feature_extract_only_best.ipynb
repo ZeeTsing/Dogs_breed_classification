{
 "cells": [
  {
   "cell_type": "code",
   "execution_count": 1,
   "metadata": {},
   "outputs": [
    {
     "data": {
      "text/plain": [
       "\"gpus = tf.config.experimental.list_physical_devices('GPU')\\ntf.config.experimental.set_memory_growth(gpus[0], True)\\nsess_config = tf.compat.v1.ConfigProto(gpu_options = tf.compat.v1.GPUOptions(per_process_gpu_memory_fraction=0.7), allow_soft_placement = True)\\nsess = tf.compat.v1.Session(config=sess_config)\\ntf.compat.v1.keras.backend.set_session(sess)\""
      ]
     },
     "execution_count": 1,
     "metadata": {},
     "output_type": "execute_result"
    }
   ],
   "source": [
    "import numpy as np \n",
    "import pandas as pd \n",
    "import cv2\n",
    "from PIL import Image \n",
    "import pathlib\n",
    "import matplotlib.pyplot as plt\n",
    "import tensorflow as tf\n",
    "import tensorflow_addons as tfa\n",
    "from tensorflow.keras.applications.vgg19 import VGG19\n",
    "\n",
    "'''gpus = tf.config.experimental.list_physical_devices('GPU')\n",
    "tf.config.experimental.set_memory_growth(gpus[0], True)\n",
    "sess_config = tf.compat.v1.ConfigProto(gpu_options = tf.compat.v1.GPUOptions(per_process_gpu_memory_fraction=0.7), allow_soft_placement = True)\n",
    "sess = tf.compat.v1.Session(config=sess_config)\n",
    "tf.compat.v1.keras.backend.set_session(sess)'''"
   ]
  },
  {
   "cell_type": "code",
   "execution_count": 2,
   "metadata": {},
   "outputs": [],
   "source": [
    "IMG_WIDTH=224\n",
    "IMG_HEIGHT=224\n",
    "IMG_DIM = (IMG_WIDTH, IMG_HEIGHT)\n",
    "BATCH_SIZE = 15\n",
    "IMG_DIR = pathlib.Path('G:\\Github\\standford-dogs\\cropped')\n",
    "TRAIN_DIR = 'G:/Github/standford-dogs/cropped/train'\n",
    "VAL_DIR = 'G:/Github/standford-dogs/cropped/validation'"
   ]
  },
  {
   "cell_type": "code",
   "execution_count": 3,
   "metadata": {},
   "outputs": [],
   "source": [
    "from tensorflow.keras.applications.vgg19 import preprocess_input\n",
    "from tensorflow.keras.preprocessing.image import ImageDataGenerator\n",
    "\n",
    "# Specify the values for all arguments to data_generator_with_aug.\n",
    "# add zoom and vertical flip -> dogs are dogs no matter it is position and facing\n",
    "data_generator_with_aug = ImageDataGenerator(preprocessing_function=preprocess_input,\n",
    "                                              horizontal_flip = True,\n",
    "                                              width_shift_range = 0.2,\n",
    "                                              height_shift_range = 0.2,\n",
    "                                                zoom_range = 0.3, \n",
    "                                             vertical_flip = True\n",
    "                                                )\n",
    "            \n",
    "data_generator_no_aug = ImageDataGenerator(preprocessing_function=preprocess_input)\n"
   ]
  },
  {
   "cell_type": "code",
   "execution_count": 4,
   "metadata": {},
   "outputs": [
    {
     "name": "stdout",
     "output_type": "stream",
     "text": [
      "Found 18522 images belonging to 120 classes.\n",
      "Found 2058 images belonging to 120 classes.\n"
     ]
    }
   ],
   "source": [
    "train_generator = data_generator_with_aug.flow_from_directory(\n",
    "                                        directory=TRAIN_DIR,\n",
    "                                        target_size=IMG_DIM,\n",
    "                                        batch_size=BATCH_SIZE,\n",
    "                                        class_mode='categorical')\n",
    "\n",
    "validation_generator = data_generator_no_aug.flow_from_directory(\n",
    "                                        directory=VAL_DIR,\n",
    "                                        target_size=IMG_DIM,batch_size=BATCH_SIZE,\n",
    "                                        class_mode='categorical')\n",
    "\n",
    "\n",
    "nb_train = len(train_generator.filenames)\n",
    "nb_val = len(validation_generator.filenames)"
   ]
  },
  {
   "cell_type": "code",
   "execution_count": 5,
   "metadata": {},
   "outputs": [],
   "source": [
    "from tensorflow.keras.models import Model\n",
    "import tensorflow.keras as keras\n",
    "\n",
    "resnet = VGG19(include_top=False, weights='imagenet', input_shape=(IMG_HEIGHT,IMG_WIDTH,3),pooling='max')\n",
    "\n",
    "output = resnet.layers[-1].output\n",
    "output = tf.keras.layers.Flatten()(output)\n",
    "resnet = Model(resnet.input, output)\n"
   ]
  },
  {
   "cell_type": "code",
   "execution_count": 6,
   "metadata": {},
   "outputs": [],
   "source": [
    "for layer in resnet.layers:\n",
    "    layer.trainable = False"
   ]
  },
  {
   "cell_type": "code",
   "execution_count": 7,
   "metadata": {},
   "outputs": [
    {
     "name": "stdout",
     "output_type": "stream",
     "text": [
      "Model: \"model\"\n",
      "_________________________________________________________________\n",
      "Layer (type)                 Output Shape              Param #   \n",
      "=================================================================\n",
      "input_1 (InputLayer)         [(None, 224, 224, 3)]     0         \n",
      "_________________________________________________________________\n",
      "block1_conv1 (Conv2D)        (None, 224, 224, 64)      1792      \n",
      "_________________________________________________________________\n",
      "block1_conv2 (Conv2D)        (None, 224, 224, 64)      36928     \n",
      "_________________________________________________________________\n",
      "block1_pool (MaxPooling2D)   (None, 112, 112, 64)      0         \n",
      "_________________________________________________________________\n",
      "block2_conv1 (Conv2D)        (None, 112, 112, 128)     73856     \n",
      "_________________________________________________________________\n",
      "block2_conv2 (Conv2D)        (None, 112, 112, 128)     147584    \n",
      "_________________________________________________________________\n",
      "block2_pool (MaxPooling2D)   (None, 56, 56, 128)       0         \n",
      "_________________________________________________________________\n",
      "block3_conv1 (Conv2D)        (None, 56, 56, 256)       295168    \n",
      "_________________________________________________________________\n",
      "block3_conv2 (Conv2D)        (None, 56, 56, 256)       590080    \n",
      "_________________________________________________________________\n",
      "block3_conv3 (Conv2D)        (None, 56, 56, 256)       590080    \n",
      "_________________________________________________________________\n",
      "block3_conv4 (Conv2D)        (None, 56, 56, 256)       590080    \n",
      "_________________________________________________________________\n",
      "block3_pool (MaxPooling2D)   (None, 28, 28, 256)       0         \n",
      "_________________________________________________________________\n",
      "block4_conv1 (Conv2D)        (None, 28, 28, 512)       1180160   \n",
      "_________________________________________________________________\n",
      "block4_conv2 (Conv2D)        (None, 28, 28, 512)       2359808   \n",
      "_________________________________________________________________\n",
      "block4_conv3 (Conv2D)        (None, 28, 28, 512)       2359808   \n",
      "_________________________________________________________________\n",
      "block4_conv4 (Conv2D)        (None, 28, 28, 512)       2359808   \n",
      "_________________________________________________________________\n",
      "block4_pool (MaxPooling2D)   (None, 14, 14, 512)       0         \n",
      "_________________________________________________________________\n",
      "block5_conv1 (Conv2D)        (None, 14, 14, 512)       2359808   \n",
      "_________________________________________________________________\n",
      "block5_conv2 (Conv2D)        (None, 14, 14, 512)       2359808   \n",
      "_________________________________________________________________\n",
      "block5_conv3 (Conv2D)        (None, 14, 14, 512)       2359808   \n",
      "_________________________________________________________________\n",
      "block5_conv4 (Conv2D)        (None, 14, 14, 512)       2359808   \n",
      "_________________________________________________________________\n",
      "block5_pool (MaxPooling2D)   (None, 7, 7, 512)         0         \n",
      "_________________________________________________________________\n",
      "global_max_pooling2d (Global (None, 512)               0         \n",
      "_________________________________________________________________\n",
      "flatten (Flatten)            (None, 512)               0         \n",
      "=================================================================\n",
      "Total params: 20,024,384\n",
      "Trainable params: 0\n",
      "Non-trainable params: 20,024,384\n",
      "_________________________________________________________________\n"
     ]
    }
   ],
   "source": [
    "resnet.summary()"
   ]
  },
  {
   "cell_type": "code",
   "execution_count": 8,
   "metadata": {},
   "outputs": [
    {
     "name": "stdout",
     "output_type": "stream",
     "text": [
      "Model: \"sequential\"\n",
      "_________________________________________________________________\n",
      "Layer (type)                 Output Shape              Param #   \n",
      "=================================================================\n",
      "model (Model)                (None, 512)               20024384  \n",
      "_________________________________________________________________\n",
      "dense (Dense)                (None, 1024)              525312    \n",
      "_________________________________________________________________\n",
      "dropout (Dropout)            (None, 1024)              0         \n",
      "_________________________________________________________________\n",
      "dense_1 (Dense)              (None, 120)               123000    \n",
      "=================================================================\n",
      "Total params: 20,672,696\n",
      "Trainable params: 648,312\n",
      "Non-trainable params: 20,024,384\n",
      "_________________________________________________________________\n"
     ]
    }
   ],
   "source": [
    "from tensorflow.keras.models import Sequential\n",
    "from tensorflow.keras.layers import Dense, Flatten, GlobalAveragePooling2D, Dropout\n",
    "\n",
    "num_classes = 120\n",
    "\n",
    "model = Sequential()\n",
    "model.add(resnet)\n",
    "model.add(Dense(1024, activation='relu'))\n",
    "model.add(Dropout(0.5))\n",
    "model.add(Dense(num_classes, activation='softmax'))\n",
    "\n",
    "model.summary()"
   ]
  },
  {
   "cell_type": "code",
   "execution_count": 9,
   "metadata": {},
   "outputs": [],
   "source": [
    "adam = tf.keras.optimizers.Adam(learning_rate=0.0001)\n",
    "\n",
    "early_stop = tf.keras.callbacks.EarlyStopping(monitor='val_loss', patience=10,\n",
    "                                              restore_best_weights=False\n",
    "                                              )\n",
    "\n",
    "\n",
    "reduce_lr = tf.keras.callbacks.ReduceLROnPlateau(monitor='val_loss',\n",
    "                                   factor=0.3,\n",
    "                                   patience=5,\n",
    "                                   verbose=1,\n",
    "                                   min_delta=1e-3,min_lr = 1e-7,\n",
    "                                   )"
   ]
  },
  {
   "cell_type": "code",
   "execution_count": 10,
   "metadata": {},
   "outputs": [],
   "source": [
    "model.compile(optimizer = adam, \n",
    "              loss = 'categorical_crossentropy', \n",
    "              metrics=['accuracy',tfa.metrics.F1Score(num_classes=num_classes)])"
   ]
  },
  {
   "cell_type": "code",
   "execution_count": 11,
   "metadata": {
    "scrolled": false
   },
   "outputs": [
    {
     "name": "stdout",
     "output_type": "stream",
     "text": [
      "WARNING:tensorflow:sample_weight modes were coerced from\n",
      "  ...\n",
      "    to  \n",
      "  ['...']\n",
      "WARNING:tensorflow:sample_weight modes were coerced from\n",
      "  ...\n",
      "    to  \n",
      "  ['...']\n",
      "Train for 1235.0 steps, validate for 138.0 steps\n",
      "Epoch 1/100\n",
      "1235/1235 [==============================] - 315s 255ms/step - loss: 16.2420 - accuracy: 0.0204 - f1_score: 0.0196 - val_loss: 4.9135 - val_accuracy: 0.0549 - val_f1_score: 0.0478\n",
      "Epoch 2/100\n",
      "1235/1235 [==============================] - 232s 188ms/step - loss: 4.8606 - accuracy: 0.0262 - f1_score: 0.0251 - val_loss: 4.5214 - val_accuracy: 0.0831 - val_f1_score: 0.0666\n",
      "Epoch 3/100\n",
      "1235/1235 [==============================] - 230s 186ms/step - loss: 4.7291 - accuracy: 0.0395 - f1_score: 0.0345 - val_loss: 4.1600 - val_accuracy: 0.1361 - val_f1_score: 0.1033\n",
      "Epoch 4/100\n",
      "1235/1235 [==============================] - 229s 186ms/step - loss: 4.5589 - accuracy: 0.0688 - f1_score: 0.0616 - val_loss: 3.5387 - val_accuracy: 0.2318 - val_f1_score: 0.1788\n",
      "Epoch 5/100\n",
      "1235/1235 [==============================] - 229s 186ms/step - loss: 4.3483 - accuracy: 0.0938 - f1_score: 0.0853 - val_loss: 2.9888 - val_accuracy: 0.3197 - val_f1_score: 0.2689\n",
      "Epoch 6/100\n",
      "1235/1235 [==============================] - 232s 188ms/step - loss: 4.1290 - accuracy: 0.1162 - f1_score: 0.1069 - val_loss: 2.5911 - val_accuracy: 0.3659 - val_f1_score: 0.3186\n",
      "Epoch 7/100\n",
      "1235/1235 [==============================] - 231s 187ms/step - loss: 3.8902 - accuracy: 0.1419 - f1_score: 0.1281 - val_loss: 2.1783 - val_accuracy: 0.4184 - val_f1_score: 0.3821\n",
      "Epoch 8/100\n",
      "1235/1235 [==============================] - 234s 190ms/step - loss: 3.6849 - accuracy: 0.1662 - f1_score: 0.1558 - val_loss: 2.0185 - val_accuracy: 0.4670 - val_f1_score: 0.4387\n",
      "Epoch 9/100\n",
      "1235/1235 [==============================] - 232s 188ms/step - loss: 3.5159 - accuracy: 0.1868 - f1_score: 0.1754 - val_loss: 1.8434 - val_accuracy: 0.5058 - val_f1_score: 0.4754\n",
      "Epoch 10/100\n",
      "1235/1235 [==============================] - 229s 186ms/step - loss: 3.3706 - accuracy: 0.2053 - f1_score: 0.1945 - val_loss: 1.8001 - val_accuracy: 0.5121 - val_f1_score: 0.4870\n",
      "Epoch 11/100\n",
      "1235/1235 [==============================] - 232s 188ms/step - loss: 3.2625 - accuracy: 0.2200 - f1_score: 0.2103 - val_loss: 1.6037 - val_accuracy: 0.5539 - val_f1_score: 0.5279\n",
      "Epoch 12/100\n",
      "1235/1235 [==============================] - 240s 195ms/step - loss: 3.1447 - accuracy: 0.2350 - f1_score: 0.2260 - val_loss: 1.5964 - val_accuracy: 0.5588 - val_f1_score: 0.5342\n",
      "Epoch 13/100\n",
      "1235/1235 [==============================] - 228s 185ms/step - loss: 3.0815 - accuracy: 0.2457 - f1_score: 0.2366 - val_loss: 1.5441 - val_accuracy: 0.5753 - val_f1_score: 0.5556\n",
      "Epoch 14/100\n",
      "1235/1235 [==============================] - 225s 182ms/step - loss: 3.0418 - accuracy: 0.2556 - f1_score: 0.2451 - val_loss: 1.4742 - val_accuracy: 0.5909 - val_f1_score: 0.5673\n",
      "Epoch 15/100\n",
      "1235/1235 [==============================] - 225s 182ms/step - loss: 2.9518 - accuracy: 0.2699 - f1_score: 0.2596 - val_loss: 1.4078 - val_accuracy: 0.6084 - val_f1_score: 0.5864\n",
      "Epoch 16/100\n",
      "1235/1235 [==============================] - 227s 184ms/step - loss: 2.9111 - accuracy: 0.2758 - f1_score: 0.2653 - val_loss: 1.4131 - val_accuracy: 0.5904 - val_f1_score: 0.5684\n",
      "Epoch 17/100\n",
      "1235/1235 [==============================] - 242s 196ms/step - loss: 2.8812 - accuracy: 0.2757 - f1_score: 0.2641 - val_loss: 1.3296 - val_accuracy: 0.6224 - val_f1_score: 0.6017\n",
      "Epoch 18/100\n",
      "1235/1235 [==============================] - 229s 185ms/step - loss: 2.8383 - accuracy: 0.2899 - f1_score: 0.2793 - val_loss: 1.3310 - val_accuracy: 0.6190 - val_f1_score: 0.5956\n",
      "Epoch 19/100\n",
      "1235/1235 [==============================] - 238s 193ms/step - loss: 2.7834 - accuracy: 0.2970 - f1_score: 0.2874 - val_loss: 1.3247 - val_accuracy: 0.6263 - val_f1_score: 0.6058\n",
      "Epoch 20/100\n",
      "1235/1235 [==============================] - 234s 189ms/step - loss: 2.7519 - accuracy: 0.2956 - f1_score: 0.2848 - val_loss: 1.3163 - val_accuracy: 0.6385 - val_f1_score: 0.6168\n",
      "Epoch 21/100\n",
      "1235/1235 [==============================] - 227s 184ms/step - loss: 2.7289 - accuracy: 0.3069 - f1_score: 0.2957 - val_loss: 1.3243 - val_accuracy: 0.6254 - val_f1_score: 0.6059re: 0.29 - ETA: 8s - lo\n",
      "Epoch 22/100\n",
      "1235/1235 [==============================] - 235s 190ms/step - loss: 2.7142 - accuracy: 0.3147 - f1_score: 0.3045 - val_loss: 1.2778 - val_accuracy: 0.6385 - val_f1_score: 0.6132\n",
      "Epoch 23/100\n",
      "1235/1235 [==============================] - 228s 184ms/step - loss: 2.6639 - accuracy: 0.3192 - f1_score: 0.3083 - val_loss: 1.2468 - val_accuracy: 0.6380 - val_f1_score: 0.6185\n",
      "Epoch 24/100\n",
      "1235/1235 [==============================] - 227s 184ms/step - loss: 2.6194 - accuracy: 0.3272 - f1_score: 0.3165 - val_loss: 1.2623 - val_accuracy: 0.6346 - val_f1_score: 0.6121\n",
      "Epoch 25/100\n",
      "1235/1235 [==============================] - 227s 184ms/step - loss: 2.6165 - accuracy: 0.3224 - f1_score: 0.3118 - val_loss: 1.2404 - val_accuracy: 0.6395 - val_f1_score: 0.6192\n",
      "Epoch 26/100\n",
      "1235/1235 [==============================] - 226s 183ms/step - loss: 2.5926 - accuracy: 0.3335 - f1_score: 0.3231 - val_loss: 1.2596 - val_accuracy: 0.6438 - val_f1_score: 0.6242\n",
      "Epoch 27/100\n",
      "1235/1235 [==============================] - 227s 184ms/step - loss: 2.5838 - accuracy: 0.3348 - f1_score: 0.3253 - val_loss: 1.2602 - val_accuracy: 0.6511 - val_f1_score: 0.6304\n",
      "Epoch 28/100\n",
      "1235/1235 [==============================] - 227s 183ms/step - loss: 2.5549 - accuracy: 0.3360 - f1_score: 0.3266 - val_loss: 1.2387 - val_accuracy: 0.6487 - val_f1_score: 0.6277\n",
      "Epoch 29/100\n",
      "1235/1235 [==============================] - 227s 183ms/step - loss: 2.5478 - accuracy: 0.3421 - f1_score: 0.3310 - val_loss: 1.2233 - val_accuracy: 0.6526 - val_f1_score: 0.6342\n",
      "Epoch 30/100\n",
      "1235/1235 [==============================] - 226s 183ms/step - loss: 2.5331 - accuracy: 0.3407 - f1_score: 0.3300 - val_loss: 1.2348 - val_accuracy: 0.6467 - val_f1_score: 0.6250\n",
      "Epoch 31/100\n",
      "1235/1235 [==============================] - 226s 183ms/step - loss: 2.5234 - accuracy: 0.3430 - f1_score: 0.3342 - val_loss: 1.2261 - val_accuracy: 0.6477 - val_f1_score: 0.6277\n",
      "Epoch 32/100\n",
      "1235/1235 [==============================] - 226s 183ms/step - loss: 2.5106 - accuracy: 0.3509 - f1_score: 0.3406 - val_loss: 1.2194 - val_accuracy: 0.6511 - val_f1_score: 0.6326\n",
      "Epoch 33/100\n",
      "1235/1235 [==============================] - 227s 183ms/step - loss: 2.4860 - accuracy: 0.3550 - f1_score: 0.3442 - val_loss: 1.1996 - val_accuracy: 0.6618 - val_f1_score: 0.6417\n",
      "Epoch 34/100\n",
      "1235/1235 [==============================] - 226s 183ms/step - loss: 2.4689 - accuracy: 0.3534 - f1_score: 0.3424 - val_loss: 1.2448 - val_accuracy: 0.6550 - val_f1_score: 0.6297\n",
      "Epoch 35/100\n",
      "1235/1235 [==============================] - 226s 183ms/step - loss: 2.4720 - accuracy: 0.3534 - f1_score: 0.3428 - val_loss: 1.1887 - val_accuracy: 0.6667 - val_f1_score: 0.6463\n",
      "Epoch 36/100\n",
      "1235/1235 [==============================] - 226s 183ms/step - loss: 2.4615 - accuracy: 0.3524 - f1_score: 0.3424 - val_loss: 1.1995 - val_accuracy: 0.6642 - val_f1_score: 0.6439\n",
      "Epoch 37/100\n",
      "1235/1235 [==============================] - 226s 183ms/step - loss: 2.4453 - accuracy: 0.3629 - f1_score: 0.3528 - val_loss: 1.2023 - val_accuracy: 0.6652 - val_f1_score: 0.6481\n",
      "Epoch 38/100\n",
      "1235/1235 [==============================] - 226s 183ms/step - loss: 2.4503 - accuracy: 0.3593 - f1_score: 0.3495 - val_loss: 1.1778 - val_accuracy: 0.6647 - val_f1_score: 0.6438\n",
      "Epoch 39/100\n",
      "1235/1235 [==============================] - 226s 183ms/step - loss: 2.4259 - accuracy: 0.3632 - f1_score: 0.3529 - val_loss: 1.1737 - val_accuracy: 0.6667 - val_f1_score: 0.6477\n",
      "Epoch 40/100\n",
      "1235/1235 [==============================] - 226s 183ms/step - loss: 2.4407 - accuracy: 0.3617 - f1_score: 0.3515 - val_loss: 1.1907 - val_accuracy: 0.6681 - val_f1_score: 0.6559\n",
      "Epoch 41/100\n",
      "1235/1235 [==============================] - 226s 183ms/step - loss: 2.4325 - accuracy: 0.3642 - f1_score: 0.3542 - val_loss: 1.2172 - val_accuracy: 0.6608 - val_f1_score: 0.6442\n",
      "Epoch 42/100\n"
     ]
    },
    {
     "name": "stdout",
     "output_type": "stream",
     "text": [
      "1235/1235 [==============================] - 226s 183ms/step - loss: 2.4121 - accuracy: 0.3659 - f1_score: 0.3540 - val_loss: 1.1967 - val_accuracy: 0.6749 - val_f1_score: 0.6574\n",
      "Epoch 43/100\n",
      "1235/1235 [==============================] - 226s 183ms/step - loss: 2.4142 - accuracy: 0.3700 - f1_score: 0.3593 - val_loss: 1.1641 - val_accuracy: 0.6720 - val_f1_score: 0.6515\n",
      "Epoch 44/100\n",
      "1235/1235 [==============================] - 226s 183ms/step - loss: 2.3987 - accuracy: 0.3662 - f1_score: 0.3565 - val_loss: 1.1913 - val_accuracy: 0.6774 - val_f1_score: 0.6604\n",
      "Epoch 45/100\n",
      "1235/1235 [==============================] - 226s 183ms/step - loss: 2.3923 - accuracy: 0.3703 - f1_score: 0.3593 - val_loss: 1.1694 - val_accuracy: 0.6686 - val_f1_score: 0.6555\n",
      "Epoch 46/100\n",
      "1235/1235 [==============================] - 226s 183ms/step - loss: 2.3826 - accuracy: 0.3724 - f1_score: 0.3623 - val_loss: 1.1760 - val_accuracy: 0.6808 - val_f1_score: 0.6623\n",
      "Epoch 47/100\n",
      "1235/1235 [==============================] - 226s 183ms/step - loss: 2.3714 - accuracy: 0.3775 - f1_score: 0.3679 - val_loss: 1.1803 - val_accuracy: 0.6691 - val_f1_score: 0.6536\n",
      "Epoch 48/100\n",
      "1234/1235 [============================>.] - ETA: 0s - loss: 2.3612 - accuracy: 0.3730 - f1_score: 0.3625\n",
      "Epoch 00048: ReduceLROnPlateau reducing learning rate to 2.9999999242136255e-05.\n",
      "1235/1235 [==============================] - 225s 182ms/step - loss: 2.3616 - accuracy: 0.3729 - f1_score: 0.3624 - val_loss: 1.1762 - val_accuracy: 0.6778 - val_f1_score: 0.6612\n",
      "Epoch 49/100\n",
      "1235/1235 [==============================] - 226s 183ms/step - loss: 2.2895 - accuracy: 0.3897 - f1_score: 0.3778 - val_loss: 1.1392 - val_accuracy: 0.6890 - val_f1_score: 0.6740\n",
      "Epoch 50/100\n",
      "1235/1235 [==============================] - 225s 182ms/step - loss: 2.2702 - accuracy: 0.3988 - f1_score: 0.3885 - val_loss: 1.1261 - val_accuracy: 0.6948 - val_f1_score: 0.6784\n",
      "Epoch 51/100\n",
      "1235/1235 [==============================] - 225s 183ms/step - loss: 2.2735 - accuracy: 0.3990 - f1_score: 0.3887 - val_loss: 1.1275 - val_accuracy: 0.6895 - val_f1_score: 0.6754\n",
      "Epoch 52/100\n",
      "1235/1235 [==============================] - 225s 182ms/step - loss: 2.2423 - accuracy: 0.4045 - f1_score: 0.3942 - val_loss: 1.1364 - val_accuracy: 0.6905 - val_f1_score: 0.6764\n",
      "Epoch 53/100\n",
      "1235/1235 [==============================] - 225s 183ms/step - loss: 2.2388 - accuracy: 0.4089 - f1_score: 0.3999 - val_loss: 1.1326 - val_accuracy: 0.6944 - val_f1_score: 0.6769\n",
      "Epoch 54/100\n",
      "1235/1235 [==============================] - 225s 183ms/step - loss: 2.2559 - accuracy: 0.4016 - f1_score: 0.3914 - val_loss: 1.1390 - val_accuracy: 0.6919 - val_f1_score: 0.6766\n",
      "Epoch 55/100\n",
      "1234/1235 [============================>.] - ETA: 0s - loss: 2.2317 - accuracy: 0.4081 - f1_score: 0.3989\n",
      "Epoch 00055: ReduceLROnPlateau reducing learning rate to 8.999999772640877e-06.\n",
      "1235/1235 [==============================] - 226s 183ms/step - loss: 2.2314 - accuracy: 0.4082 - f1_score: 0.3989 - val_loss: 1.1336 - val_accuracy: 0.6890 - val_f1_score: 0.6742\n",
      "Epoch 56/100\n",
      "1235/1235 [==============================] - 226s 183ms/step - loss: 2.2208 - accuracy: 0.4079 - f1_score: 0.3992 - val_loss: 1.1258 - val_accuracy: 0.6987 - val_f1_score: 0.6833\n",
      "Epoch 57/100\n",
      "1235/1235 [==============================] - 225s 183ms/step - loss: 2.1823 - accuracy: 0.4144 - f1_score: 0.4046 - val_loss: 1.1275 - val_accuracy: 0.6987 - val_f1_score: 0.6832\n",
      "Epoch 58/100\n",
      "1235/1235 [==============================] - 229s 186ms/step - loss: 2.2153 - accuracy: 0.4138 - f1_score: 0.4040 - val_loss: 1.1256 - val_accuracy: 0.6958 - val_f1_score: 0.6799\n",
      "Epoch 59/100\n",
      "1235/1235 [==============================] - 235s 190ms/step - loss: 2.1919 - accuracy: 0.4179 - f1_score: 0.4078 - val_loss: 1.1272 - val_accuracy: 0.6987 - val_f1_score: 0.6844\n",
      "Epoch 60/100\n",
      "1234/1235 [============================>.] - ETA: 0s - loss: 2.2129 - accuracy: 0.4094 - f1_score: 0.4001\n",
      "Epoch 00060: ReduceLROnPlateau reducing learning rate to 2.6999998226528985e-06.\n",
      "1235/1235 [==============================] - 222s 180ms/step - loss: 2.2132 - accuracy: 0.4095 - f1_score: 0.4002 - val_loss: 1.1269 - val_accuracy: 0.6963 - val_f1_score: 0.6826\n",
      "Epoch 61/100\n",
      "1235/1235 [==============================] - 223s 181ms/step - loss: 2.1934 - accuracy: 0.4169 - f1_score: 0.4075 - val_loss: 1.1289 - val_accuracy: 0.6978 - val_f1_score: 0.6846\n",
      "Epoch 62/100\n",
      "1235/1235 [==============================] - 228s 185ms/step - loss: 2.1950 - accuracy: 0.4165 - f1_score: 0.4067 - val_loss: 1.1249 - val_accuracy: 0.6968 - val_f1_score: 0.6830\n",
      "Epoch 63/100\n",
      "1235/1235 [==============================] - 223s 180ms/step - loss: 2.1882 - accuracy: 0.4152 - f1_score: 0.4059 - val_loss: 1.1252 - val_accuracy: 0.6978 - val_f1_score: 0.6848\n",
      "Epoch 64/100\n",
      "1235/1235 [==============================] - 223s 181ms/step - loss: 2.1925 - accuracy: 0.4172 - f1_score: 0.4082 - val_loss: 1.1252 - val_accuracy: 0.6963 - val_f1_score: 0.6826\n",
      "Epoch 65/100\n",
      "1235/1235 [==============================] - 223s 181ms/step - loss: 2.2112 - accuracy: 0.4129 - f1_score: 0.4025 - val_loss: 1.1202 - val_accuracy: 0.7002 - val_f1_score: 0.6866\n",
      "Epoch 66/100\n",
      "1235/1235 [==============================] - 222s 180ms/step - loss: 2.1845 - accuracy: 0.4190 - f1_score: 0.4097 - val_loss: 1.1180 - val_accuracy: 0.7007 - val_f1_score: 0.6865\n",
      "Epoch 67/100\n",
      "1235/1235 [==============================] - 222s 180ms/step - loss: 2.1924 - accuracy: 0.4148 - f1_score: 0.4043 - val_loss: 1.1143 - val_accuracy: 0.6992 - val_f1_score: 0.6851\n",
      "Epoch 68/100\n",
      "1235/1235 [==============================] - 222s 180ms/step - loss: 2.1882 - accuracy: 0.4189 - f1_score: 0.4087 - val_loss: 1.1133 - val_accuracy: 0.7007 - val_f1_score: 0.6858\n",
      "Epoch 69/100\n",
      "1235/1235 [==============================] - 222s 180ms/step - loss: 2.1954 - accuracy: 0.4131 - f1_score: 0.4027 - val_loss: 1.1141 - val_accuracy: 0.6978 - val_f1_score: 0.6829\n",
      "Epoch 70/100\n",
      "1235/1235 [==============================] - 222s 180ms/step - loss: 2.1995 - accuracy: 0.4146 - f1_score: 0.4050 - val_loss: 1.1139 - val_accuracy: 0.7017 - val_f1_score: 0.6875\n",
      "Epoch 71/100\n",
      "1235/1235 [==============================] - 222s 180ms/step - loss: 2.1568 - accuracy: 0.4217 - f1_score: 0.4130 - val_loss: 1.1135 - val_accuracy: 0.6987 - val_f1_score: 0.6846\n",
      "Epoch 72/100\n",
      "1234/1235 [============================>.] - ETA: 0s - loss: 2.1656 - accuracy: 0.4202 - f1_score: 0.4101\n",
      "Epoch 00072: ReduceLROnPlateau reducing learning rate to 8.099999604382901e-07.\n",
      "1235/1235 [==============================] - 222s 180ms/step - loss: 2.1659 - accuracy: 0.4203 - f1_score: 0.4101 - val_loss: 1.1178 - val_accuracy: 0.6997 - val_f1_score: 0.6860\n",
      "Epoch 73/100\n",
      "1235/1235 [==============================] - 222s 180ms/step - loss: 2.1912 - accuracy: 0.4139 - f1_score: 0.4038 - val_loss: 1.1182 - val_accuracy: 0.6992 - val_f1_score: 0.6855\n",
      "Epoch 74/100\n",
      "1235/1235 [==============================] - 223s 180ms/step - loss: 2.1793 - accuracy: 0.4177 - f1_score: 0.4078 - val_loss: 1.1183 - val_accuracy: 0.6997 - val_f1_score: 0.6855\n",
      "Epoch 75/100\n",
      "1235/1235 [==============================] - 222s 180ms/step - loss: 2.1977 - accuracy: 0.4199 - f1_score: 0.4101 - val_loss: 1.1176 - val_accuracy: 0.6997 - val_f1_score: 0.6854\n",
      "Epoch 76/100\n",
      "1235/1235 [==============================] - 223s 180ms/step - loss: 2.1741 - accuracy: 0.4162 - f1_score: 0.4072 - val_loss: 1.1182 - val_accuracy: 0.6983 - val_f1_score: 0.6842\n",
      "Epoch 77/100\n",
      "1234/1235 [============================>.] - ETA: 0s - loss: 2.1934 - accuracy: 0.4181 - f1_score: 0.4067\n",
      "Epoch 00077: ReduceLROnPlateau reducing learning rate to 2.4299998813148704e-07.\n",
      "1235/1235 [==============================] - 223s 181ms/step - loss: 2.1939 - accuracy: 0.4181 - f1_score: 0.4067 - val_loss: 1.1170 - val_accuracy: 0.6987 - val_f1_score: 0.6846\n",
      "Epoch 78/100\n",
      "1235/1235 [==============================] - 229s 186ms/step - loss: 2.1944 - accuracy: 0.4177 - f1_score: 0.4065 - val_loss: 1.1167 - val_accuracy: 0.6987 - val_f1_score: 0.6848\n"
     ]
    },
    {
     "data": {
      "text/plain": [
       "<tensorflow.python.keras.callbacks.History at 0x251e7a46c18>"
      ]
     },
     "execution_count": 11,
     "metadata": {},
     "output_type": "execute_result"
    }
   ],
   "source": [
    "model.fit(train_generator,steps_per_epoch=np.ceil(float(nb_train) / float(BATCH_SIZE)),\n",
    "                        epochs = 100,callbacks=[early_stop,reduce_lr],\n",
    "                          validation_steps=np.ceil(float(nb_val) / float(BATCH_SIZE)),\n",
    "                        validation_data = validation_generator)"
   ]
  },
  {
   "cell_type": "code",
   "execution_count": 12,
   "metadata": {},
   "outputs": [],
   "source": [
    "def get_diagnostic_plot(model,name):\n",
    "    training_loss = model.history.history[name]\n",
    "    test_loss = model.history.history[f'val_{name}']\n",
    "\n",
    "    # Create count of the number of epochs\n",
    "    epoch_count = range(1, len(training_loss) + 1)\n",
    "\n",
    "    # Visualize loss history\n",
    "    plt.plot(epoch_count, training_loss, 'r--')\n",
    "    plt.plot(epoch_count, test_loss, 'b-')\n",
    "    plt.legend([f'Training {name}', f'Val {name}'])\n",
    "    plt.xlabel('Epoch')\n",
    "    plt.ylabel(name)"
   ]
  },
  {
   "cell_type": "code",
   "execution_count": 13,
   "metadata": {},
   "outputs": [
    {
     "data": {
      "image/png": "[encoded data removed]",
      "text/plain": [
       "<Figure size 432x288 with 1 Axes>"
      ]
     },
     "metadata": {
      "needs_background": "light"
     },
     "output_type": "display_data"
    }
   ],
   "source": [
    "get_diagnostic_plot(model,'loss')"
   ]
  },
  {
   "cell_type": "code",
   "execution_count": 14,
   "metadata": {},
   "outputs": [
    {
     "data": {
      "image/png": "[encoded data removed]",
      "text/plain": [
       "<Figure size 432x288 with 1 Axes>"
      ]
     },
     "metadata": {
      "needs_background": "light"
     },
     "output_type": "display_data"
    }
   ],
   "source": [
    "get_diagnostic_plot(model,'accuracy')"
   ]
  },
  {
   "cell_type": "code",
   "execution_count": 15,
   "metadata": {},
   "outputs": [
    {
     "name": "stdout",
     "output_type": "stream",
     "text": [
      "WARNING:tensorflow:From C:\\Users\\Zhiqing\\Anaconda3\\envs\\tf\\lib\\site-packages\\tensorflow_core\\python\\ops\\resource_variable_ops.py:1786: calling BaseResourceVariable.__init__ (from tensorflow.python.ops.resource_variable_ops) with constraint is deprecated and will be removed in a future version.\n",
      "Instructions for updating:\n",
      "If using Keras pass *_constraint arguments to layers.\n",
      "INFO:tensorflow:Assets written to: G:/Github/Dogs_breed_classification/VGG19_2/assets\n"
     ]
    }
   ],
   "source": [
    "save_path = 'G:/Github/Dogs_breed_classification/VGG19_2/'\n",
    "tf.keras.models.save_model(model,save_path)"
   ]
  },
  {
   "cell_type": "markdown",
   "metadata": {},
   "source": [
    "Terrible performance.\n",
    "\n",
    "have to say we may need to just lock the weight for VGG 19\n",
    "\n",
    "it is too shallow a net to perform the dog task"
   ]
  },
  {
   "cell_type": "code",
   "execution_count": null,
   "metadata": {},
   "outputs": [],
   "source": []
  }
 ],
 "metadata": {
  "kernelspec": {
   "display_name": "Python 3",
   "language": "python",
   "name": "python3"
  },
  "language_info": {
   "codemirror_mode": {
    "name": "ipython",
    "version": 3
   },
   "file_extension": ".py",
   "mimetype": "text/x-python",
   "name": "python",
   "nbconvert_exporter": "python",
   "pygments_lexer": "ipython3",
   "version": "3.6.10"
  }
 },
 "nbformat": 4,
 "nbformat_minor": 4
}
