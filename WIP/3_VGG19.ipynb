{
 "cells": [
  {
   "cell_type": "code",
   "execution_count": 1,
   "metadata": {},
   "outputs": [
    {
     "data": {
      "text/plain": [
       "\"gpus = tf.config.experimental.list_physical_devices('GPU')\\ntf.config.experimental.set_memory_growth(gpus[0], True)\\nsess_config = tf.compat.v1.ConfigProto(gpu_options = tf.compat.v1.GPUOptions(per_process_gpu_memory_fraction=0.7), allow_soft_placement = True)\\nsess = tf.compat.v1.Session(config=sess_config)\\ntf.compat.v1.keras.backend.set_session(sess)\""
      ]
     },
     "execution_count": 1,
     "metadata": {},
     "output_type": "execute_result"
    }
   ],
   "source": [
    "import numpy as np \n",
    "import pandas as pd \n",
    "import cv2\n",
    "from PIL import Image \n",
    "import pathlib\n",
    "import matplotlib.pyplot as plt\n",
    "import tensorflow as tf\n",
    "import tensorflow_addons as tfa\n",
    "from tensorflow.keras.applications.vgg19 import VGG19\n",
    "\n",
    "'''gpus = tf.config.experimental.list_physical_devices('GPU')\n",
    "tf.config.experimental.set_memory_growth(gpus[0], True)\n",
    "sess_config = tf.compat.v1.ConfigProto(gpu_options = tf.compat.v1.GPUOptions(per_process_gpu_memory_fraction=0.7), allow_soft_placement = True)\n",
    "sess = tf.compat.v1.Session(config=sess_config)\n",
    "tf.compat.v1.keras.backend.set_session(sess)'''"
   ]
  },
  {
   "cell_type": "code",
   "execution_count": 2,
   "metadata": {},
   "outputs": [],
   "source": [
    "IMG_WIDTH=224\n",
    "IMG_HEIGHT=224\n",
    "IMG_DIM = (IMG_WIDTH, IMG_HEIGHT)\n",
    "BATCH_SIZE = 15\n",
    "IMG_DIR = pathlib.Path('G:\\Github\\standford-dogs\\cropped')\n",
    "TRAIN_DIR = 'G:/Github/standford-dogs/cropped/train'\n",
    "VAL_DIR = 'G:/Github/standford-dogs/cropped/validation'"
   ]
  },
  {
   "cell_type": "code",
   "execution_count": 3,
   "metadata": {},
   "outputs": [],
   "source": [
    "from tensorflow.keras.applications.vgg19 import preprocess_input\n",
    "from tensorflow.keras.preprocessing.image import ImageDataGenerator\n",
    "\n",
    "# Specify the values for all arguments to data_generator_with_aug.\n",
    "# add zoom and vertical flip -> dogs are dogs no matter it is position and facing\n",
    "data_generator_with_aug = ImageDataGenerator(preprocessing_function=preprocess_input,\n",
    "                                              horizontal_flip = True,\n",
    "                                              width_shift_range = 0.2,\n",
    "                                              height_shift_range = 0.2,\n",
    "                                                zoom_range = 0.3, \n",
    "                                             vertical_flip = True\n",
    "                                                )\n",
    "            \n",
    "data_generator_no_aug = ImageDataGenerator(preprocessing_function=preprocess_input)\n"
   ]
  },
  {
   "cell_type": "code",
   "execution_count": 4,
   "metadata": {},
   "outputs": [
    {
     "name": "stdout",
     "output_type": "stream",
     "text": [
      "Found 18522 images belonging to 120 classes.\n",
      "Found 2058 images belonging to 120 classes.\n"
     ]
    }
   ],
   "source": [
    "train_generator = data_generator_with_aug.flow_from_directory(\n",
    "                                        directory=TRAIN_DIR,\n",
    "                                        target_size=IMG_DIM,\n",
    "                                        batch_size=BATCH_SIZE,\n",
    "                                        class_mode='categorical')\n",
    "\n",
    "validation_generator = data_generator_no_aug.flow_from_directory(\n",
    "                                        directory=VAL_DIR,\n",
    "                                        target_size=IMG_DIM,batch_size=BATCH_SIZE,\n",
    "                                        class_mode='categorical')\n",
    "\n",
    "\n",
    "nb_train = len(train_generator.filenames)\n",
    "nb_val = len(validation_generator.filenames)"
   ]
  },
  {
   "cell_type": "code",
   "execution_count": 5,
   "metadata": {},
   "outputs": [],
   "source": [
    "from tensorflow.keras.models import Model\n",
    "import tensorflow.keras as keras\n",
    "\n",
    "resnet = VGG19(include_top=False, weights='imagenet', input_shape=(IMG_HEIGHT,IMG_WIDTH,3),pooling='max')\n",
    "\n",
    "output = resnet.layers[-1].output\n",
    "output = tf.keras.layers.Flatten()(output)\n",
    "resnet = Model(resnet.input, output)\n"
   ]
  },
  {
   "cell_type": "code",
   "execution_count": 6,
   "metadata": {},
   "outputs": [],
   "source": [
    "res_name = []\n",
    "for layer in resnet.layers:\n",
    "    res_name.append(layer.name)"
   ]
  },
  {
   "cell_type": "code",
   "execution_count": 7,
   "metadata": {},
   "outputs": [
    {
     "data": {
      "text/plain": [
       "24"
      ]
     },
     "execution_count": 7,
     "metadata": {},
     "output_type": "execute_result"
    }
   ],
   "source": [
    "res_name[-7:]\n",
    "len(res_name)"
   ]
  },
  {
   "cell_type": "code",
   "execution_count": 8,
   "metadata": {},
   "outputs": [],
   "source": [
    "set_trainable = False\n",
    "for layer in resnet.layers:\n",
    "    if layer.name in res_name[-7:]:\n",
    "        set_trainable = True\n",
    "    if set_trainable:\n",
    "        layer.trainable = True\n",
    "    else:\n",
    "        layer.trainable = False"
   ]
  },
  {
   "cell_type": "code",
   "execution_count": 9,
   "metadata": {},
   "outputs": [
    {
     "name": "stdout",
     "output_type": "stream",
     "text": [
      "Model: \"model\"\n",
      "_________________________________________________________________\n",
      "Layer (type)                 Output Shape              Param #   \n",
      "=================================================================\n",
      "input_1 (InputLayer)         [(None, 224, 224, 3)]     0         \n",
      "_________________________________________________________________\n",
      "block1_conv1 (Conv2D)        (None, 224, 224, 64)      1792      \n",
      "_________________________________________________________________\n",
      "block1_conv2 (Conv2D)        (None, 224, 224, 64)      36928     \n",
      "_________________________________________________________________\n",
      "block1_pool (MaxPooling2D)   (None, 112, 112, 64)      0         \n",
      "_________________________________________________________________\n",
      "block2_conv1 (Conv2D)        (None, 112, 112, 128)     73856     \n",
      "_________________________________________________________________\n",
      "block2_conv2 (Conv2D)        (None, 112, 112, 128)     147584    \n",
      "_________________________________________________________________\n",
      "block2_pool (MaxPooling2D)   (None, 56, 56, 128)       0         \n",
      "_________________________________________________________________\n",
      "block3_conv1 (Conv2D)        (None, 56, 56, 256)       295168    \n",
      "_________________________________________________________________\n",
      "block3_conv2 (Conv2D)        (None, 56, 56, 256)       590080    \n",
      "_________________________________________________________________\n",
      "block3_conv3 (Conv2D)        (None, 56, 56, 256)       590080    \n",
      "_________________________________________________________________\n",
      "block3_conv4 (Conv2D)        (None, 56, 56, 256)       590080    \n",
      "_________________________________________________________________\n",
      "block3_pool (MaxPooling2D)   (None, 28, 28, 256)       0         \n",
      "_________________________________________________________________\n",
      "block4_conv1 (Conv2D)        (None, 28, 28, 512)       1180160   \n",
      "_________________________________________________________________\n",
      "block4_conv2 (Conv2D)        (None, 28, 28, 512)       2359808   \n",
      "_________________________________________________________________\n",
      "block4_conv3 (Conv2D)        (None, 28, 28, 512)       2359808   \n",
      "_________________________________________________________________\n",
      "block4_conv4 (Conv2D)        (None, 28, 28, 512)       2359808   \n",
      "_________________________________________________________________\n",
      "block4_pool (MaxPooling2D)   (None, 14, 14, 512)       0         \n",
      "_________________________________________________________________\n",
      "block5_conv1 (Conv2D)        (None, 14, 14, 512)       2359808   \n",
      "_________________________________________________________________\n",
      "block5_conv2 (Conv2D)        (None, 14, 14, 512)       2359808   \n",
      "_________________________________________________________________\n",
      "block5_conv3 (Conv2D)        (None, 14, 14, 512)       2359808   \n",
      "_________________________________________________________________\n",
      "block5_conv4 (Conv2D)        (None, 14, 14, 512)       2359808   \n",
      "_________________________________________________________________\n",
      "block5_pool (MaxPooling2D)   (None, 7, 7, 512)         0         \n",
      "_________________________________________________________________\n",
      "global_max_pooling2d (Global (None, 512)               0         \n",
      "_________________________________________________________________\n",
      "flatten (Flatten)            (None, 512)               0         \n",
      "=================================================================\n",
      "Total params: 20,024,384\n",
      "Trainable params: 9,439,232\n",
      "Non-trainable params: 10,585,152\n",
      "_________________________________________________________________\n"
     ]
    }
   ],
   "source": [
    "resnet.summary()"
   ]
  },
  {
   "cell_type": "code",
   "execution_count": 10,
   "metadata": {},
   "outputs": [
    {
     "name": "stdout",
     "output_type": "stream",
     "text": [
      "Model: \"sequential\"\n",
      "_________________________________________________________________\n",
      "Layer (type)                 Output Shape              Param #   \n",
      "=================================================================\n",
      "model (Model)                (None, 512)               20024384  \n",
      "_________________________________________________________________\n",
      "dense (Dense)                (None, 1024)              525312    \n",
      "_________________________________________________________________\n",
      "dropout (Dropout)            (None, 1024)              0         \n",
      "_________________________________________________________________\n",
      "dense_1 (Dense)              (None, 120)               123000    \n",
      "=================================================================\n",
      "Total params: 20,672,696\n",
      "Trainable params: 10,087,544\n",
      "Non-trainable params: 10,585,152\n",
      "_________________________________________________________________\n"
     ]
    }
   ],
   "source": [
    "from tensorflow.keras.models import Sequential\n",
    "from tensorflow.keras.layers import Dense, Flatten, GlobalAveragePooling2D, Dropout\n",
    "\n",
    "num_classes = 120\n",
    "\n",
    "model = Sequential()\n",
    "model.add(resnet)\n",
    "model.add(Dense(1024, activation='relu'))\n",
    "model.add(Dropout(0.5))\n",
    "model.add(Dense(num_classes, activation='softmax'))\n",
    "\n",
    "model.summary()"
   ]
  },
  {
   "cell_type": "code",
   "execution_count": 11,
   "metadata": {},
   "outputs": [],
   "source": [
    "adam = tf.keras.optimizers.Adam(learning_rate=0.0001)\n",
    "\n",
    "early_stop = tf.keras.callbacks.EarlyStopping(monitor='val_loss', patience=10,\n",
    "                                              restore_best_weights=False\n",
    "                                              )\n",
    "\n",
    "\n",
    "reduce_lr = tf.keras.callbacks.ReduceLROnPlateau(monitor='val_loss',\n",
    "                                   factor=0.3,\n",
    "                                   patience=5,\n",
    "                                   verbose=1,\n",
    "                                   min_delta=1e-3,min_lr = 1e-7,\n",
    "                                   )"
   ]
  },
  {
   "cell_type": "code",
   "execution_count": 12,
   "metadata": {},
   "outputs": [],
   "source": [
    "model.compile(optimizer = adam, \n",
    "              loss = 'categorical_crossentropy', \n",
    "              metrics=['accuracy',tfa.metrics.F1Score(num_classes=num_classes)])"
   ]
  },
  {
   "cell_type": "code",
   "execution_count": 13,
   "metadata": {
    "scrolled": false
   },
   "outputs": [
    {
     "name": "stdout",
     "output_type": "stream",
     "text": [
      "WARNING:tensorflow:sample_weight modes were coerced from\n",
      "  ...\n",
      "    to  \n",
      "  ['...']\n",
      "WARNING:tensorflow:sample_weight modes were coerced from\n",
      "  ...\n",
      "    to  \n",
      "  ['...']\n",
      "Train for 1235.0 steps, validate for 138.0 steps\n",
      "Epoch 1/100\n",
      "1235/1235 [==============================] - 244s 197ms/step - loss: 5.0801 - accuracy: 0.0109 - f1_score: 0.0020 - val_loss: 4.7868 - val_accuracy: 0.0131 - val_f1_score: 2.1655e-04\n",
      "Epoch 2/100\n",
      "1235/1235 [==============================] - 245s 198ms/step - loss: 4.7860 - accuracy: 0.0112 - f1_score: 5.8082e-04 - val_loss: 4.7859 - val_accuracy: 0.0131 - val_f1_score: 2.1583e-04\n",
      "Epoch 3/100\n",
      "1235/1235 [==============================] - 241s 195ms/step - loss: 4.7845 - accuracy: 0.0116 - f1_score: 4.0315e-04 - val_loss: 4.7850 - val_accuracy: 0.0131 - val_f1_score: 2.1583e-04\n",
      "Epoch 4/100\n",
      "1235/1235 [==============================] - 253s 205ms/step - loss: 4.7831 - accuracy: 0.0116 - f1_score: 4.0646e-04 - val_loss: 4.7841 - val_accuracy: 0.0131 - val_f1_score: 2.1583e-04\n",
      "Epoch 5/100\n",
      "1235/1235 [==============================] - 254s 206ms/step - loss: 4.7816 - accuracy: 0.0114 - f1_score: 3.4988e-04 - val_loss: 4.7835 - val_accuracy: 0.0131 - val_f1_score: 2.1583e-04\n",
      "Epoch 6/100\n",
      "1235/1235 [==============================] - 250s 202ms/step - loss: 4.7809 - accuracy: 0.0122 - f1_score: 3.0513e-04 - val_loss: 4.7833 - val_accuracy: 0.0131 - val_f1_score: 2.1583e-04\n",
      "Epoch 7/100\n",
      "1235/1235 [==============================] - 239s 194ms/step - loss: 4.8406 - accuracy: 0.0119 - f1_score: 3.1043e-04 - val_loss: 4.7834 - val_accuracy: 0.0131 - val_f1_score: 2.1583e-04\n",
      "Epoch 8/100\n",
      "1235/1235 [==============================] - 235s 190ms/step - loss: 4.7801 - accuracy: 0.0125 - f1_score: 4.1973e-04 - val_loss: 4.7835 - val_accuracy: 0.0131 - val_f1_score: 2.1583e-04\n",
      "Epoch 9/100\n",
      "1235/1235 [==============================] - 234s 190ms/step - loss: 4.7797 - accuracy: 0.0121 - f1_score: 3.8244e-04 - val_loss: 4.7836 - val_accuracy: 0.0131 - val_f1_score: 2.1583e-04\n",
      "Epoch 10/100\n",
      "1234/1235 [============================>.] - ETA: 0s - loss: 4.7796 - accuracy: 0.0119 - f1_score: 3.7362e-04\n",
      "Epoch 00010: ReduceLROnPlateau reducing learning rate to 2.9999999242136255e-05.\n",
      "1235/1235 [==============================] - 236s 191ms/step - loss: 4.7796 - accuracy: 0.0119 - f1_score: 3.7344e-04 - val_loss: 4.7837 - val_accuracy: 0.0131 - val_f1_score: 2.1583e-04\n",
      "Epoch 11/100\n",
      "1235/1235 [==============================] - 235s 191ms/step - loss: 4.7794 - accuracy: 0.0121 - f1_score: 3.8494e-04 - val_loss: 4.7838 - val_accuracy: 0.0131 - val_f1_score: 2.1583e-04\n",
      "Epoch 12/100\n",
      "1235/1235 [==============================] - 235s 191ms/step - loss: 4.7791 - accuracy: 0.0118 - f1_score: 3.0067e-04 - val_loss: 4.7838 - val_accuracy: 0.0131 - val_f1_score: 2.1583e-04\n",
      "Epoch 13/100\n",
      "1235/1235 [==============================] - 234s 189ms/step - loss: 4.7789 - accuracy: 0.0123 - f1_score: 3.7087e-04 - val_loss: 4.7838 - val_accuracy: 0.0131 - val_f1_score: 2.1583e-04\n",
      "Epoch 14/100\n",
      "1235/1235 [==============================] - 234s 190ms/step - loss: 4.7790 - accuracy: 0.0121 - f1_score: 3.6478e-04 - val_loss: 4.7838 - val_accuracy: 0.0131 - val_f1_score: 2.1583e-04\n",
      "Epoch 15/100\n",
      "1234/1235 [============================>.] - ETA: 0s - loss: 4.7788 - accuracy: 0.0120 - f1_score: 3.7247e-04\n",
      "Epoch 00015: ReduceLROnPlateau reducing learning rate to 8.999999772640877e-06.\n",
      "1235/1235 [==============================] - 235s 190ms/step - loss: 4.7787 - accuracy: 0.0120 - f1_score: 3.7210e-04 - val_loss: 4.7838 - val_accuracy: 0.0131 - val_f1_score: 2.1583e-04\n",
      "Epoch 16/100\n",
      "1235/1235 [==============================] - 230s 186ms/step - loss: 4.7788 - accuracy: 0.0123 - f1_score: 3.0634e-04 - val_loss: 4.7838 - val_accuracy: 0.0131 - val_f1_score: 2.1583e-04\n"
     ]
    },
    {
     "data": {
      "text/plain": [
       "<tensorflow.python.keras.callbacks.History at 0x27ee8d0f198>"
      ]
     },
     "execution_count": 13,
     "metadata": {},
     "output_type": "execute_result"
    }
   ],
   "source": [
    "model.fit(train_generator,steps_per_epoch=np.ceil(float(nb_train) / float(BATCH_SIZE)),\n",
    "                        epochs = 100,callbacks=[early_stop,reduce_lr],\n",
    "                          validation_steps=np.ceil(float(nb_val) / float(BATCH_SIZE)),\n",
    "                        validation_data = validation_generator)"
   ]
  },
  {
   "cell_type": "code",
   "execution_count": 14,
   "metadata": {},
   "outputs": [],
   "source": [
    "def get_diagnostic_plot(model,name):\n",
    "    training_loss = model.history.history[name]\n",
    "    test_loss = model.history.history[f'val_{name}']\n",
    "\n",
    "    # Create count of the number of epochs\n",
    "    epoch_count = range(1, len(training_loss) + 1)\n",
    "\n",
    "    # Visualize loss history\n",
    "    plt.plot(epoch_count, training_loss, 'r--')\n",
    "    plt.plot(epoch_count, test_loss, 'b-')\n",
    "    plt.legend([f'Training {name}', f'Val {name}'])\n",
    "    plt.xlabel('Epoch')\n",
    "    plt.ylabel(name)"
   ]
  },
  {
   "cell_type": "code",
   "execution_count": 15,
   "metadata": {},
   "outputs": [
    {
     "data": {
      "image/png": "[encoded data removed]",
      "text/plain": [
       "<Figure size 432x288 with 1 Axes>"
      ]
     },
     "metadata": {
      "needs_background": "light"
     },
     "output_type": "display_data"
    }
   ],
   "source": [
    "get_diagnostic_plot(model,'loss')"
   ]
  },
  {
   "cell_type": "code",
   "execution_count": 16,
   "metadata": {},
   "outputs": [
    {
     "data": {
      "image/png": "[encoded data removed]",
      "text/plain": [
       "<Figure size 432x288 with 1 Axes>"
      ]
     },
     "metadata": {
      "needs_background": "light"
     },
     "output_type": "display_data"
    }
   ],
   "source": [
    "get_diagnostic_plot(model,'accuracy')"
   ]
  },
  {
   "cell_type": "code",
   "execution_count": 17,
   "metadata": {},
   "outputs": [
    {
     "name": "stdout",
     "output_type": "stream",
     "text": [
      "WARNING:tensorflow:From C:\\Users\\Zhiqing\\Anaconda3\\envs\\tf\\lib\\site-packages\\tensorflow_core\\python\\ops\\resource_variable_ops.py:1786: calling BaseResourceVariable.__init__ (from tensorflow.python.ops.resource_variable_ops) with constraint is deprecated and will be removed in a future version.\n",
      "Instructions for updating:\n",
      "If using Keras pass *_constraint arguments to layers.\n",
      "INFO:tensorflow:Assets written to: G:/Github/Dogs_breed_classification/VGG19_1/assets\n"
     ]
    }
   ],
   "source": [
    "save_path = 'G:/Github/Dogs_breed_classification/VGG19_1/'\n",
    "tf.keras.models.save_model(model,save_path)"
   ]
  },
  {
   "cell_type": "markdown",
   "metadata": {},
   "source": [
    "Terrible performance.\n",
    "\n",
    "have to say we may need to just lock the weight for VGG 19\n",
    "\n",
    "it is too shallow a net to perform the dog task"
   ]
  },
  {
   "cell_type": "code",
   "execution_count": null,
   "metadata": {},
   "outputs": [],
   "source": []
  }
 ],
 "metadata": {
  "kernelspec": {
   "display_name": "Python 3",
   "language": "python",
   "name": "python3"
  },
  "language_info": {
   "codemirror_mode": {
    "name": "ipython",
    "version": 3
   },
   "file_extension": ".py",
   "mimetype": "text/x-python",
   "name": "python",
   "nbconvert_exporter": "python",
   "pygments_lexer": "ipython3",
   "version": "3.6.10"
  }
 },
 "nbformat": 4,
 "nbformat_minor": 4
}
